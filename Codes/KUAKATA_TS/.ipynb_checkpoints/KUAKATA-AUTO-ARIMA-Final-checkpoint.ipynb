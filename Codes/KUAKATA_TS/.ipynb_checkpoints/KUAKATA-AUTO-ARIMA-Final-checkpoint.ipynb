{
 "cells": [
  {
   "cell_type": "code",
   "execution_count": 1,
   "metadata": {},
   "outputs": [],
   "source": [
    "import pandas as pd\n",
    "import numpy as np\n",
    "import matplotlib.pyplot as plt\n",
    "import statsmodels.graphics.tsaplots as sgt\n",
    "import statsmodels.tsa.stattools as sts\n",
    "from statsmodels.tsa.seasonal import seasonal_decompose\n",
    "from statsmodels.tsa.arima_model import ARMA\n",
    "from scipy.stats.distributions import chi2\n",
    "from sklearn.metrics import r2_score,mean_squared_error\n",
    "import warnings\n",
    "from pmdarima.arima import auto_arima\n",
    "warnings.filterwarnings(\"ignore\")\n",
    "import seaborn as sns\n",
    "sns.set()"
   ]
  },
  {
   "cell_type": "code",
   "execution_count": 2,
   "metadata": {},
   "outputs": [],
   "source": [
    "raw_csv_data = pd.read_csv('KUAKATA.csv')\n",
    "raw_csv_data.head()\n",
    "df_comp =raw_csv_data.copy()"
   ]
  },
  {
   "cell_type": "code",
   "execution_count": null,
   "metadata": {},
   "outputs": [],
   "source": [
    "df_comp.Date = pd.to_datetime(df_comp.Date, dayfirst = True)\n",
    "df_comp.set_index(\"Date\",inplace=True)"
   ]
  },
  {
   "cell_type": "code",
   "execution_count": null,
   "metadata": {},
   "outputs": [],
   "source": [
    "df_comp = df_comp.asfreq('d') #'d' -> daily"
   ]
  },
  {
   "cell_type": "code",
   "execution_count": null,
   "metadata": {},
   "outputs": [],
   "source": [
    "df_comp2 = df_comp.copy()\n",
    "del df_comp['LOW']"
   ]
  },
  {
   "cell_type": "code",
   "execution_count": null,
   "metadata": {},
   "outputs": [],
   "source": [
    "size = int(len(df_comp)*0.8)\n",
    "df = df_comp.iloc[:size]\n",
    "df_test = df_comp.iloc[size:]\n",
    "df2 = df_comp2.iloc[:size]\n",
    "df2_test = df_comp2.iloc[size:]"
   ]
  },
  {
   "cell_type": "code",
   "execution_count": null,
   "metadata": {},
   "outputs": [],
   "source": [
    "def LLR_test(mod_1, mod_2, DF = 1):\n",
    "    L1 = mod_1.fit().llf\n",
    "    L2 = mod_2.fit().llf\n",
    "    LR = (2*(L2-L1))    \n",
    "    p = chi2.sf(LR, DF).round(3)\n",
    "    return p"
   ]
  },
  {
   "cell_type": "code",
   "execution_count": null,
   "metadata": {},
   "outputs": [],
   "source": [
    "start_date = \"2021-03-14\"\n",
    "end_date = \"2021-12-31\""
   ]
  },
  {
   "cell_type": "code",
   "execution_count": null,
   "metadata": {},
   "outputs": [],
   "source": [
    "df_comp.head()"
   ]
  },
  {
   "cell_type": "code",
   "execution_count": null,
   "metadata": {},
   "outputs": [],
   "source": [
    "mod_auto2 = auto_arima(df.HIGH,exogenous = df[['SURFACE PRESSURE','TEMPERATURE',\n",
    "                                               'MAX WIND SPD','S_ICE EXTENT']]\n",
    "                       ,m = 15, max_p = 6, max_q = 11)"
   ]
  },
  {
   "cell_type": "code",
   "execution_count": null,
   "metadata": {},
   "outputs": [],
   "source": [
    "mod_auto2.summary()"
   ]
  },
  {
   "cell_type": "code",
   "execution_count": null,
   "metadata": {},
   "outputs": [],
   "source": [
    "df_auto_pred_pr2 = pd.DataFrame(mod_auto2.predict(n_periods = len(df_test[start_date:end_date]),exogenous = df_test[['SURFACE PRESSURE','TEMPERATURE',\n",
    "                                               'MAX WIND SPD','S_ICE EXTENT']][start_date:end_date]),\n",
    "                               index = df_test[start_date:end_date].index)"
   ]
  },
  {
   "cell_type": "code",
   "execution_count": null,
   "metadata": {},
   "outputs": [],
   "source": [
    "df_auto_pred_pr2[start_date:end_date].plot(figsize = (20,5), color = \"red\")\n",
    "df_test.HIGH[start_date:end_date].plot(color = \"blue\")"
   ]
  },
  {
   "cell_type": "code",
   "execution_count": null,
   "metadata": {},
   "outputs": [],
   "source": [
    "acc =r2_score(df_test.HIGH[start_date:end_date],df_auto_pred_pr2[start_date:end_date])\n",
    "print(\"Testing Score: \",acc)"
   ]
  }
 ],
 "metadata": {
  "kernelspec": {
   "display_name": "Python 3 (ipykernel)",
   "language": "python",
   "name": "python3"
  },
  "language_info": {
   "codemirror_mode": {
    "name": "ipython",
    "version": 3
   },
   "file_extension": ".py",
   "mimetype": "text/x-python",
   "name": "python",
   "nbconvert_exporter": "python",
   "pygments_lexer": "ipython3",
   "version": "3.9.7"
  }
 },
 "nbformat": 4,
 "nbformat_minor": 4
}
