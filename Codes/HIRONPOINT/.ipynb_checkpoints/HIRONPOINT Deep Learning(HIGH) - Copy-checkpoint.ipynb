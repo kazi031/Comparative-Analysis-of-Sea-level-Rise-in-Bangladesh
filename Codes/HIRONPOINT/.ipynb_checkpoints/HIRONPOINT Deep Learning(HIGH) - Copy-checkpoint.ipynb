{
 "cells": [
  {
   "cell_type": "markdown",
   "metadata": {},
   "source": [
    "## Importing the Necessary Packages"
   ]
  },
  {
   "cell_type": "code",
   "execution_count": 1,
   "metadata": {},
   "outputs": [],
   "source": [
    "import numpy as np\n",
    "import pandas as pd\n",
    "import statsmodels.api as sm\n",
    "import matplotlib.pyplot as plt\n",
    "from sklearn.linear_model import LinearRegression\n",
    "from sklearn.preprocessing import PolynomialFeatures,MinMaxScaler,StandardScaler\n",
    "import tensorflow as tf\n",
    "from tensorflow import keras\n",
    "from tensorflow.keras import layers\n",
    "from sklearn.model_selection import cross_val_score,train_test_split\n",
    "from sklearn.metrics import r2_score,mean_squared_error\n",
    "import plotly.graph_objs as go\n",
    "import seaborn as sns\n",
    "sns.set()"
   ]
  },
  {
   "cell_type": "markdown",
   "metadata": {},
   "source": [
    "## Loading Data"
   ]
  },
  {
   "cell_type": "code",
   "execution_count": 2,
   "metadata": {},
   "outputs": [
    {
     "data": {
      "text/html": [
       "<div>\n",
       "<style scoped>\n",
       "    .dataframe tbody tr th:only-of-type {\n",
       "        vertical-align: middle;\n",
       "    }\n",
       "\n",
       "    .dataframe tbody tr th {\n",
       "        vertical-align: top;\n",
       "    }\n",
       "\n",
       "    .dataframe thead th {\n",
       "        text-align: right;\n",
       "    }\n",
       "</style>\n",
       "<table border=\"1\" class=\"dataframe\">\n",
       "  <thead>\n",
       "    <tr style=\"text-align: right;\">\n",
       "      <th></th>\n",
       "      <th>YEAR</th>\n",
       "      <th>MONTH</th>\n",
       "      <th>DAY</th>\n",
       "      <th>SURFACE PRESSURE</th>\n",
       "      <th>DEW POINT</th>\n",
       "      <th>TEMPERATURE</th>\n",
       "      <th>PRECIPITATION</th>\n",
       "      <th>MAX WIND SPD</th>\n",
       "      <th>RELATIVE HUMIDITY</th>\n",
       "      <th>MIN TEMP</th>\n",
       "      <th>N_ICE EXTENT</th>\n",
       "      <th>S_ICE EXTENT</th>\n",
       "      <th>HIGH</th>\n",
       "      <th>LOW</th>\n",
       "    </tr>\n",
       "  </thead>\n",
       "  <tbody>\n",
       "    <tr>\n",
       "      <th>0</th>\n",
       "      <td>2017</td>\n",
       "      <td>1</td>\n",
       "      <td>1</td>\n",
       "      <td>101.52</td>\n",
       "      <td>14.48</td>\n",
       "      <td>25.83</td>\n",
       "      <td>0.00</td>\n",
       "      <td>3.45</td>\n",
       "      <td>68.81</td>\n",
       "      <td>15.99</td>\n",
       "      <td>12.643</td>\n",
       "      <td>5.516</td>\n",
       "      <td>2.80</td>\n",
       "      <td>0.73</td>\n",
       "    </tr>\n",
       "    <tr>\n",
       "      <th>1</th>\n",
       "      <td>2017</td>\n",
       "      <td>1</td>\n",
       "      <td>2</td>\n",
       "      <td>101.51</td>\n",
       "      <td>14.08</td>\n",
       "      <td>26.18</td>\n",
       "      <td>0.00</td>\n",
       "      <td>4.23</td>\n",
       "      <td>68.69</td>\n",
       "      <td>15.46</td>\n",
       "      <td>12.644</td>\n",
       "      <td>5.387</td>\n",
       "      <td>2.68</td>\n",
       "      <td>0.82</td>\n",
       "    </tr>\n",
       "    <tr>\n",
       "      <th>2</th>\n",
       "      <td>2017</td>\n",
       "      <td>1</td>\n",
       "      <td>3</td>\n",
       "      <td>101.44</td>\n",
       "      <td>15.01</td>\n",
       "      <td>26.30</td>\n",
       "      <td>0.08</td>\n",
       "      <td>4.81</td>\n",
       "      <td>73.44</td>\n",
       "      <td>15.34</td>\n",
       "      <td>12.713</td>\n",
       "      <td>5.232</td>\n",
       "      <td>2.66</td>\n",
       "      <td>0.80</td>\n",
       "    </tr>\n",
       "    <tr>\n",
       "      <th>3</th>\n",
       "      <td>2017</td>\n",
       "      <td>1</td>\n",
       "      <td>4</td>\n",
       "      <td>101.34</td>\n",
       "      <td>14.66</td>\n",
       "      <td>26.21</td>\n",
       "      <td>0.04</td>\n",
       "      <td>4.66</td>\n",
       "      <td>72.94</td>\n",
       "      <td>15.57</td>\n",
       "      <td>12.954</td>\n",
       "      <td>5.149</td>\n",
       "      <td>2.56</td>\n",
       "      <td>0.83</td>\n",
       "    </tr>\n",
       "    <tr>\n",
       "      <th>4</th>\n",
       "      <td>2017</td>\n",
       "      <td>1</td>\n",
       "      <td>5</td>\n",
       "      <td>101.32</td>\n",
       "      <td>13.23</td>\n",
       "      <td>25.94</td>\n",
       "      <td>0.02</td>\n",
       "      <td>4.98</td>\n",
       "      <td>69.50</td>\n",
       "      <td>14.65</td>\n",
       "      <td>12.956</td>\n",
       "      <td>5.065</td>\n",
       "      <td>2.50</td>\n",
       "      <td>0.86</td>\n",
       "    </tr>\n",
       "  </tbody>\n",
       "</table>\n",
       "</div>"
      ],
      "text/plain": [
       "   YEAR  MONTH  DAY  SURFACE PRESSURE  DEW POINT  TEMPERATURE  PRECIPITATION  \\\n",
       "0  2017      1    1            101.52      14.48        25.83           0.00   \n",
       "1  2017      1    2            101.51      14.08        26.18           0.00   \n",
       "2  2017      1    3            101.44      15.01        26.30           0.08   \n",
       "3  2017      1    4            101.34      14.66        26.21           0.04   \n",
       "4  2017      1    5            101.32      13.23        25.94           0.02   \n",
       "\n",
       "   MAX WIND SPD  RELATIVE HUMIDITY  MIN TEMP  N_ICE EXTENT  S_ICE EXTENT  \\\n",
       "0          3.45              68.81     15.99        12.643         5.516   \n",
       "1          4.23              68.69     15.46        12.644         5.387   \n",
       "2          4.81              73.44     15.34        12.713         5.232   \n",
       "3          4.66              72.94     15.57        12.954         5.149   \n",
       "4          4.98              69.50     14.65        12.956         5.065   \n",
       "\n",
       "   HIGH   LOW  \n",
       "0  2.80  0.73  \n",
       "1  2.68  0.82  \n",
       "2  2.66  0.80  \n",
       "3  2.56  0.83  \n",
       "4  2.50  0.86  "
      ]
     },
     "execution_count": 2,
     "metadata": {},
     "output_type": "execute_result"
    }
   ],
   "source": [
    "raw_data = pd.read_csv('1.05 STATION HIRONPOINT.csv')\n",
    "raw_data.head()"
   ]
  },
  {
   "cell_type": "markdown",
   "metadata": {},
   "source": [
    "## Handling Null Values"
   ]
  },
  {
   "cell_type": "code",
   "execution_count": 3,
   "metadata": {},
   "outputs": [
    {
     "data": {
      "text/plain": [
       "YEAR                 0\n",
       "MONTH                0\n",
       "DAY                  0\n",
       "SURFACE PRESSURE     0\n",
       "DEW POINT            0\n",
       "TEMPERATURE          0\n",
       "PRECIPITATION        0\n",
       "MAX WIND SPD         0\n",
       "RELATIVE HUMIDITY    0\n",
       "MIN TEMP             0\n",
       "N_ICE EXTENT         0\n",
       "S_ICE EXTENT         0\n",
       "HIGH                 1\n",
       "LOW                  0\n",
       "dtype: int64"
      ]
     },
     "execution_count": 3,
     "metadata": {},
     "output_type": "execute_result"
    }
   ],
   "source": [
    "raw_data.isnull().sum()"
   ]
  },
  {
   "cell_type": "code",
   "execution_count": 4,
   "metadata": {},
   "outputs": [
    {
     "data": {
      "text/html": [
       "<div>\n",
       "<style scoped>\n",
       "    .dataframe tbody tr th:only-of-type {\n",
       "        vertical-align: middle;\n",
       "    }\n",
       "\n",
       "    .dataframe tbody tr th {\n",
       "        vertical-align: top;\n",
       "    }\n",
       "\n",
       "    .dataframe thead th {\n",
       "        text-align: right;\n",
       "    }\n",
       "</style>\n",
       "<table border=\"1\" class=\"dataframe\">\n",
       "  <thead>\n",
       "    <tr style=\"text-align: right;\">\n",
       "      <th></th>\n",
       "      <th>YEAR</th>\n",
       "      <th>MONTH</th>\n",
       "      <th>DAY</th>\n",
       "      <th>SURFACE PRESSURE</th>\n",
       "      <th>DEW POINT</th>\n",
       "      <th>TEMPERATURE</th>\n",
       "      <th>PRECIPITATION</th>\n",
       "      <th>MAX WIND SPD</th>\n",
       "      <th>RELATIVE HUMIDITY</th>\n",
       "      <th>MIN TEMP</th>\n",
       "      <th>N_ICE EXTENT</th>\n",
       "      <th>S_ICE EXTENT</th>\n",
       "      <th>HIGH</th>\n",
       "      <th>LOW</th>\n",
       "    </tr>\n",
       "  </thead>\n",
       "  <tbody>\n",
       "    <tr>\n",
       "      <th>count</th>\n",
       "      <td>1460.000000</td>\n",
       "      <td>1460.000000</td>\n",
       "      <td>1460.000000</td>\n",
       "      <td>1460.000000</td>\n",
       "      <td>1460.000000</td>\n",
       "      <td>1460.000000</td>\n",
       "      <td>1460.000000</td>\n",
       "      <td>1460.000000</td>\n",
       "      <td>1460.00000</td>\n",
       "      <td>1460.000000</td>\n",
       "      <td>1460.000000</td>\n",
       "      <td>1460.000000</td>\n",
       "      <td>1460.000000</td>\n",
       "      <td>1460.000000</td>\n",
       "    </tr>\n",
       "    <tr>\n",
       "      <th>mean</th>\n",
       "      <td>2018.500000</td>\n",
       "      <td>6.526027</td>\n",
       "      <td>15.728767</td>\n",
       "      <td>100.793432</td>\n",
       "      <td>21.368678</td>\n",
       "      <td>29.565158</td>\n",
       "      <td>9.313692</td>\n",
       "      <td>5.216904</td>\n",
       "      <td>77.86539</td>\n",
       "      <td>23.058390</td>\n",
       "      <td>10.271556</td>\n",
       "      <td>11.062897</td>\n",
       "      <td>2.945329</td>\n",
       "      <td>0.845911</td>\n",
       "    </tr>\n",
       "    <tr>\n",
       "      <th>std</th>\n",
       "      <td>1.118417</td>\n",
       "      <td>3.449033</td>\n",
       "      <td>8.806059</td>\n",
       "      <td>0.576262</td>\n",
       "      <td>5.736076</td>\n",
       "      <td>3.091541</td>\n",
       "      <td>18.968023</td>\n",
       "      <td>1.587857</td>\n",
       "      <td>11.48626</td>\n",
       "      <td>5.084257</td>\n",
       "      <td>3.525952</td>\n",
       "      <td>5.797917</td>\n",
       "      <td>0.374364</td>\n",
       "      <td>0.421845</td>\n",
       "    </tr>\n",
       "    <tr>\n",
       "      <th>min</th>\n",
       "      <td>2017.000000</td>\n",
       "      <td>1.000000</td>\n",
       "      <td>1.000000</td>\n",
       "      <td>98.970000</td>\n",
       "      <td>2.780000</td>\n",
       "      <td>15.530000</td>\n",
       "      <td>0.000000</td>\n",
       "      <td>1.930000</td>\n",
       "      <td>38.31000</td>\n",
       "      <td>9.740000</td>\n",
       "      <td>3.793000</td>\n",
       "      <td>2.080000</td>\n",
       "      <td>0.090000</td>\n",
       "      <td>-0.240000</td>\n",
       "    </tr>\n",
       "    <tr>\n",
       "      <th>25%</th>\n",
       "      <td>2017.750000</td>\n",
       "      <td>4.000000</td>\n",
       "      <td>8.000000</td>\n",
       "      <td>100.327500</td>\n",
       "      <td>16.997500</td>\n",
       "      <td>28.057500</td>\n",
       "      <td>0.000000</td>\n",
       "      <td>4.260000</td>\n",
       "      <td>69.94000</td>\n",
       "      <td>19.165000</td>\n",
       "      <td>6.828750</td>\n",
       "      <td>5.176250</td>\n",
       "      <td>2.720000</td>\n",
       "      <td>0.570000</td>\n",
       "    </tr>\n",
       "    <tr>\n",
       "      <th>50%</th>\n",
       "      <td>2018.500000</td>\n",
       "      <td>7.000000</td>\n",
       "      <td>16.000000</td>\n",
       "      <td>100.830000</td>\n",
       "      <td>23.730000</td>\n",
       "      <td>29.950000</td>\n",
       "      <td>1.545000</td>\n",
       "      <td>4.900000</td>\n",
       "      <td>79.38000</td>\n",
       "      <td>25.560000</td>\n",
       "      <td>11.151000</td>\n",
       "      <td>11.898500</td>\n",
       "      <td>2.970000</td>\n",
       "      <td>0.830000</td>\n",
       "    </tr>\n",
       "    <tr>\n",
       "      <th>75%</th>\n",
       "      <td>2019.250000</td>\n",
       "      <td>10.000000</td>\n",
       "      <td>23.000000</td>\n",
       "      <td>101.290000</td>\n",
       "      <td>26.210000</td>\n",
       "      <td>31.490000</td>\n",
       "      <td>11.242500</td>\n",
       "      <td>5.740000</td>\n",
       "      <td>87.76500</td>\n",
       "      <td>27.150000</td>\n",
       "      <td>13.462000</td>\n",
       "      <td>16.883000</td>\n",
       "      <td>3.220000</td>\n",
       "      <td>1.072500</td>\n",
       "    </tr>\n",
       "    <tr>\n",
       "      <th>max</th>\n",
       "      <td>2020.000000</td>\n",
       "      <td>12.000000</td>\n",
       "      <td>31.000000</td>\n",
       "      <td>101.920000</td>\n",
       "      <td>28.010000</td>\n",
       "      <td>36.080000</td>\n",
       "      <td>224.520000</td>\n",
       "      <td>22.300000</td>\n",
       "      <td>94.62000</td>\n",
       "      <td>28.830000</td>\n",
       "      <td>15.071000</td>\n",
       "      <td>19.062000</td>\n",
       "      <td>3.790000</td>\n",
       "      <td>3.060000</td>\n",
       "    </tr>\n",
       "  </tbody>\n",
       "</table>\n",
       "</div>"
      ],
      "text/plain": [
       "              YEAR        MONTH          DAY  SURFACE PRESSURE    DEW POINT  \\\n",
       "count  1460.000000  1460.000000  1460.000000       1460.000000  1460.000000   \n",
       "mean   2018.500000     6.526027    15.728767        100.793432    21.368678   \n",
       "std       1.118417     3.449033     8.806059          0.576262     5.736076   \n",
       "min    2017.000000     1.000000     1.000000         98.970000     2.780000   \n",
       "25%    2017.750000     4.000000     8.000000        100.327500    16.997500   \n",
       "50%    2018.500000     7.000000    16.000000        100.830000    23.730000   \n",
       "75%    2019.250000    10.000000    23.000000        101.290000    26.210000   \n",
       "max    2020.000000    12.000000    31.000000        101.920000    28.010000   \n",
       "\n",
       "       TEMPERATURE  PRECIPITATION  MAX WIND SPD  RELATIVE HUMIDITY  \\\n",
       "count  1460.000000    1460.000000   1460.000000         1460.00000   \n",
       "mean     29.565158       9.313692      5.216904           77.86539   \n",
       "std       3.091541      18.968023      1.587857           11.48626   \n",
       "min      15.530000       0.000000      1.930000           38.31000   \n",
       "25%      28.057500       0.000000      4.260000           69.94000   \n",
       "50%      29.950000       1.545000      4.900000           79.38000   \n",
       "75%      31.490000      11.242500      5.740000           87.76500   \n",
       "max      36.080000     224.520000     22.300000           94.62000   \n",
       "\n",
       "          MIN TEMP  N_ICE EXTENT  S_ICE EXTENT         HIGH          LOW  \n",
       "count  1460.000000   1460.000000   1460.000000  1460.000000  1460.000000  \n",
       "mean     23.058390     10.271556     11.062897     2.945329     0.845911  \n",
       "std       5.084257      3.525952      5.797917     0.374364     0.421845  \n",
       "min       9.740000      3.793000      2.080000     0.090000    -0.240000  \n",
       "25%      19.165000      6.828750      5.176250     2.720000     0.570000  \n",
       "50%      25.560000     11.151000     11.898500     2.970000     0.830000  \n",
       "75%      27.150000     13.462000     16.883000     3.220000     1.072500  \n",
       "max      28.830000     15.071000     19.062000     3.790000     3.060000  "
      ]
     },
     "execution_count": 4,
     "metadata": {},
     "output_type": "execute_result"
    }
   ],
   "source": [
    "data_no_mv = raw_data.dropna(axis=0)\n",
    "data_no_mv.describe(include='all')"
   ]
  },
  {
   "cell_type": "markdown",
   "metadata": {},
   "source": [
    "## Distribution Check and Dealing With Outliers"
   ]
  },
  {
   "cell_type": "code",
   "execution_count": 5,
   "metadata": {},
   "outputs": [],
   "source": [
    "df = data_no_mv"
   ]
  },
  {
   "cell_type": "code",
   "execution_count": 6,
   "metadata": {},
   "outputs": [
    {
     "name": "stderr",
     "output_type": "stream",
     "text": [
      "C:\\ProgramData\\Anaconda3\\lib\\site-packages\\seaborn\\distributions.py:2619: FutureWarning: `distplot` is a deprecated function and will be removed in a future version. Please adapt your code to use either `displot` (a figure-level function with similar flexibility) or `histplot` (an axes-level function for histograms).\n",
      "  warnings.warn(msg, FutureWarning)\n"
     ]
    },
    {
     "data": {
      "image/png": "[encoded data removed]",
      "text/plain": [
       "<Figure size 432x288 with 1 Axes>"
      ]
     },
     "metadata": {},
     "output_type": "display_data"
    }
   ],
   "source": [
    "sns.distplot(df['DEW POINT'])\n",
    "plt.show()"
   ]
  },
  {
   "cell_type": "code",
   "execution_count": 7,
   "metadata": {},
   "outputs": [
    {
     "name": "stderr",
     "output_type": "stream",
     "text": [
      "C:\\ProgramData\\Anaconda3\\lib\\site-packages\\seaborn\\distributions.py:2619: FutureWarning: `distplot` is a deprecated function and will be removed in a future version. Please adapt your code to use either `displot` (a figure-level function with similar flexibility) or `histplot` (an axes-level function for histograms).\n",
      "  warnings.warn(msg, FutureWarning)\n"
     ]
    },
    {
     "data": {
      "image/png": "[encoded data removed]",
      "text/plain": [
       "<Figure size 432x288 with 1 Axes>"
      ]
     },
     "metadata": {},
     "output_type": "display_data"
    }
   ],
   "source": [
    "sns.distplot(df['PRECIPITATION'])\n",
    "plt.show()"
   ]
  },
  {
   "cell_type": "code",
   "execution_count": 8,
   "metadata": {},
   "outputs": [
    {
     "name": "stderr",
     "output_type": "stream",
     "text": [
      "C:\\ProgramData\\Anaconda3\\lib\\site-packages\\seaborn\\distributions.py:2619: FutureWarning: `distplot` is a deprecated function and will be removed in a future version. Please adapt your code to use either `displot` (a figure-level function with similar flexibility) or `histplot` (an axes-level function for histograms).\n",
      "  warnings.warn(msg, FutureWarning)\n"
     ]
    },
    {
     "data": {
      "image/png": "[encoded data removed]",
      "text/plain": [
       "<Figure size 432x288 with 1 Axes>"
      ]
     },
     "metadata": {},
     "output_type": "display_data"
    }
   ],
   "source": [
    "q = df['PRECIPITATION'].quantile(0.99)\n",
    "data_1 = df[df['PRECIPITATION']<q]\n",
    "sns.distplot(data_1['PRECIPITATION'])\n",
    "plt.show()"
   ]
  },
  {
   "cell_type": "code",
   "execution_count": 9,
   "metadata": {},
   "outputs": [],
   "source": [
    "data_cleaned = data_1.reset_index(drop=True)"
   ]
  },
  {
   "cell_type": "code",
   "execution_count": 10,
   "metadata": {},
   "outputs": [],
   "source": [
    "data_cleaned = data_cleaned.drop(['LOW'],axis=1)"
   ]
  },
  {
   "cell_type": "code",
   "execution_count": 11,
   "metadata": {},
   "outputs": [
    {
     "data": {
      "text/plain": [
       "YEAR                 0.042191\n",
       "MONTH                0.372738\n",
       "DAY                 -0.021058\n",
       "SURFACE PRESSURE    -0.490442\n",
       "DEW POINT            0.494988\n",
       "TEMPERATURE          0.105036\n",
       "PRECIPITATION        0.324304\n",
       "MAX WIND SPD         0.209253\n",
       "RELATIVE HUMIDITY    0.532508\n",
       "MIN TEMP             0.433953\n",
       "N_ICE EXTENT        -0.528982\n",
       "S_ICE EXTENT         0.570486\n",
       "HIGH                 1.000000\n",
       "Name: HIGH, dtype: float64"
      ]
     },
     "execution_count": 11,
     "metadata": {},
     "output_type": "execute_result"
    }
   ],
   "source": [
    "data_cleaned.corr()['HIGH']"
   ]
  },
  {
   "cell_type": "code",
   "execution_count": 12,
   "metadata": {},
   "outputs": [
    {
     "data": {
      "image/png": "[encoded data removed]",
      "text/plain": [
       "<Figure size 864x576 with 2 Axes>"
      ]
     },
     "metadata": {},
     "output_type": "display_data"
    }
   ],
   "source": [
    "fig_dims = (12,8)\n",
    "fig,ax = plt.subplots(figsize=fig_dims)\n",
    "sns.heatmap(data_cleaned.corr(), ax=ax)\n",
    "plt.show()"
   ]
  },
  {
   "cell_type": "code",
   "execution_count": 13,
   "metadata": {},
   "outputs": [
    {
     "data": {
      "text/html": [
       "<div>\n",
       "<style scoped>\n",
       "    .dataframe tbody tr th:only-of-type {\n",
       "        vertical-align: middle;\n",
       "    }\n",
       "\n",
       "    .dataframe tbody tr th {\n",
       "        vertical-align: top;\n",
       "    }\n",
       "\n",
       "    .dataframe thead th {\n",
       "        text-align: right;\n",
       "    }\n",
       "</style>\n",
       "<table border=\"1\" class=\"dataframe\">\n",
       "  <thead>\n",
       "    <tr style=\"text-align: right;\">\n",
       "      <th></th>\n",
       "      <th>YEAR</th>\n",
       "      <th>MONTH</th>\n",
       "      <th>DAY</th>\n",
       "      <th>SURFACE PRESSURE</th>\n",
       "      <th>TEMPERATURE</th>\n",
       "      <th>PRECIPITATION</th>\n",
       "      <th>MAX WIND SPD</th>\n",
       "      <th>S_ICE EXTENT</th>\n",
       "      <th>HIGH</th>\n",
       "    </tr>\n",
       "  </thead>\n",
       "  <tbody>\n",
       "    <tr>\n",
       "      <th>count</th>\n",
       "      <td>1445.000000</td>\n",
       "      <td>1445.000000</td>\n",
       "      <td>1445.000000</td>\n",
       "      <td>1445.000000</td>\n",
       "      <td>1445.000000</td>\n",
       "      <td>1445.000000</td>\n",
       "      <td>1445.000000</td>\n",
       "      <td>1445.000000</td>\n",
       "      <td>1445.000000</td>\n",
       "    </tr>\n",
       "    <tr>\n",
       "      <th>mean</th>\n",
       "      <td>2018.505882</td>\n",
       "      <td>6.507958</td>\n",
       "      <td>15.725952</td>\n",
       "      <td>100.799723</td>\n",
       "      <td>29.575716</td>\n",
       "      <td>8.022069</td>\n",
       "      <td>5.189889</td>\n",
       "      <td>11.012576</td>\n",
       "      <td>2.941232</td>\n",
       "    </tr>\n",
       "    <tr>\n",
       "      <th>std</th>\n",
       "      <td>1.118096</td>\n",
       "      <td>3.457614</td>\n",
       "      <td>8.817772</td>\n",
       "      <td>0.575111</td>\n",
       "      <td>3.104845</td>\n",
       "      <td>13.398900</td>\n",
       "      <td>1.558170</td>\n",
       "      <td>5.803321</td>\n",
       "      <td>0.373602</td>\n",
       "    </tr>\n",
       "    <tr>\n",
       "      <th>min</th>\n",
       "      <td>2017.000000</td>\n",
       "      <td>1.000000</td>\n",
       "      <td>1.000000</td>\n",
       "      <td>98.970000</td>\n",
       "      <td>15.530000</td>\n",
       "      <td>0.000000</td>\n",
       "      <td>1.930000</td>\n",
       "      <td>2.080000</td>\n",
       "      <td>0.090000</td>\n",
       "    </tr>\n",
       "    <tr>\n",
       "      <th>25%</th>\n",
       "      <td>2018.000000</td>\n",
       "      <td>4.000000</td>\n",
       "      <td>8.000000</td>\n",
       "      <td>100.330000</td>\n",
       "      <td>28.060000</td>\n",
       "      <td>0.000000</td>\n",
       "      <td>4.250000</td>\n",
       "      <td>5.114000</td>\n",
       "      <td>2.720000</td>\n",
       "    </tr>\n",
       "    <tr>\n",
       "      <th>50%</th>\n",
       "      <td>2019.000000</td>\n",
       "      <td>7.000000</td>\n",
       "      <td>16.000000</td>\n",
       "      <td>100.840000</td>\n",
       "      <td>29.980000</td>\n",
       "      <td>1.420000</td>\n",
       "      <td>4.880000</td>\n",
       "      <td>11.766000</td>\n",
       "      <td>2.970000</td>\n",
       "    </tr>\n",
       "    <tr>\n",
       "      <th>75%</th>\n",
       "      <td>2020.000000</td>\n",
       "      <td>10.000000</td>\n",
       "      <td>23.000000</td>\n",
       "      <td>101.290000</td>\n",
       "      <td>31.510000</td>\n",
       "      <td>10.470000</td>\n",
       "      <td>5.720000</td>\n",
       "      <td>16.879000</td>\n",
       "      <td>3.210000</td>\n",
       "    </tr>\n",
       "    <tr>\n",
       "      <th>max</th>\n",
       "      <td>2020.000000</td>\n",
       "      <td>12.000000</td>\n",
       "      <td>31.000000</td>\n",
       "      <td>101.920000</td>\n",
       "      <td>36.080000</td>\n",
       "      <td>84.240000</td>\n",
       "      <td>22.300000</td>\n",
       "      <td>19.062000</td>\n",
       "      <td>3.790000</td>\n",
       "    </tr>\n",
       "  </tbody>\n",
       "</table>\n",
       "</div>"
      ],
      "text/plain": [
       "              YEAR        MONTH          DAY  SURFACE PRESSURE  TEMPERATURE  \\\n",
       "count  1445.000000  1445.000000  1445.000000       1445.000000  1445.000000   \n",
       "mean   2018.505882     6.507958    15.725952        100.799723    29.575716   \n",
       "std       1.118096     3.457614     8.817772          0.575111     3.104845   \n",
       "min    2017.000000     1.000000     1.000000         98.970000    15.530000   \n",
       "25%    2018.000000     4.000000     8.000000        100.330000    28.060000   \n",
       "50%    2019.000000     7.000000    16.000000        100.840000    29.980000   \n",
       "75%    2020.000000    10.000000    23.000000        101.290000    31.510000   \n",
       "max    2020.000000    12.000000    31.000000        101.920000    36.080000   \n",
       "\n",
       "       PRECIPITATION  MAX WIND SPD  S_ICE EXTENT         HIGH  \n",
       "count    1445.000000   1445.000000   1445.000000  1445.000000  \n",
       "mean        8.022069      5.189889     11.012576     2.941232  \n",
       "std        13.398900      1.558170      5.803321     0.373602  \n",
       "min         0.000000      1.930000      2.080000     0.090000  \n",
       "25%         0.000000      4.250000      5.114000     2.720000  \n",
       "50%         1.420000      4.880000     11.766000     2.970000  \n",
       "75%        10.470000      5.720000     16.879000     3.210000  \n",
       "max        84.240000     22.300000     19.062000     3.790000  "
      ]
     },
     "execution_count": 13,
     "metadata": {},
     "output_type": "execute_result"
    }
   ],
   "source": [
    "data_cleaned = data_cleaned.drop(['DEW POINT'],axis=1)\n",
    "data_cleaned = data_cleaned.drop(['MIN TEMP'],axis=1)\n",
    "data_cleaned = data_cleaned.drop(['N_ICE EXTENT'],axis=1)\n",
    "data_cleaned = data_cleaned.drop(['RELATIVE HUMIDITY'],axis=1)\n",
    "data_cleaned.describe(include='all')"
   ]
  },
  {
   "cell_type": "markdown",
   "metadata": {},
   "source": [
    "## Neural Network Regression"
   ]
  },
  {
   "cell_type": "markdown",
   "metadata": {},
   "source": [
    "### Train-Test Split"
   ]
  },
  {
   "cell_type": "code",
   "execution_count": 14,
   "metadata": {},
   "outputs": [],
   "source": [
    "dataset = data_cleaned\n",
    "train_dataset = dataset.sample(frac=0.8,random_state=22)\n",
    "test_dataset = dataset.drop(train_dataset.index)"
   ]
  },
  {
   "cell_type": "markdown",
   "metadata": {},
   "source": [
    "#### Separate the target value, or “label”, from the features. This label is the value that we will train the model to predict."
   ]
  },
  {
   "cell_type": "code",
   "execution_count": 15,
   "metadata": {},
   "outputs": [],
   "source": [
    "train_labels = train_dataset.pop('HIGH')\n",
    "test_labels = test_dataset.pop('HIGH')"
   ]
  },
  {
   "cell_type": "markdown",
   "metadata": {},
   "source": [
    "### Scaling the Input Data"
   ]
  },
  {
   "cell_type": "code",
   "execution_count": 16,
   "metadata": {},
   "outputs": [],
   "source": [
    "scaler=MinMaxScaler()\n",
    "scaler.fit(train_dataset)\n",
    "normed_train_data = scaler.transform(train_dataset)\n",
    "scaler.fit(test_dataset)\n",
    "normed_test_data = scaler.transform(test_dataset)"
   ]
  },
  {
   "cell_type": "markdown",
   "metadata": {},
   "source": [
    "### Model"
   ]
  },
  {
   "cell_type": "code",
   "execution_count": 17,
   "metadata": {},
   "outputs": [],
   "source": [
    "def build_model():\n",
    "  model = keras.Sequential([\n",
    "    layers.Dense(64, activation=tf.nn.relu, input_shape=[len(train_dataset.keys())]),\n",
    "    layers.Dense(64, activation=tf.nn.relu),\n",
    "    layers.Dense(1)\n",
    "  ])\n",
    "\n",
    "  #optimizer = tf.keras.optimizers.RMSprop(0.001)\n",
    "  optimizer = tf.keras.optimizers.Adam(learning_rate=0.01)\n",
    "  model.compile(loss='mean_squared_error',\n",
    "                optimizer=optimizer,\n",
    "                metrics=['mean_absolute_error', 'mean_squared_error'])\n",
    "  return model"
   ]
  },
  {
   "cell_type": "code",
   "execution_count": 18,
   "metadata": {},
   "outputs": [
    {
     "name": "stdout",
     "output_type": "stream",
     "text": [
      "Model: \"sequential\"\n",
      "_________________________________________________________________\n",
      " Layer (type)                Output Shape              Param #   \n",
      "=================================================================\n",
      " dense (Dense)               (None, 64)                576       \n",
      "                                                                 \n",
      " dense_1 (Dense)             (None, 64)                4160      \n",
      "                                                                 \n",
      " dense_2 (Dense)             (None, 1)                 65        \n",
      "                                                                 \n",
      "=================================================================\n",
      "Total params: 4,801\n",
      "Trainable params: 4,801\n",
      "Non-trainable params: 0\n",
      "_________________________________________________________________\n"
     ]
    }
   ],
   "source": [
    "NN_model = build_model()\n",
    "NN_model.summary()"
   ]
  },
  {
   "cell_type": "markdown",
   "metadata": {},
   "source": [
    "### Training"
   ]
  },
  {
   "cell_type": "code",
   "execution_count": null,
   "metadata": {},
   "outputs": [
    {
     "name": "stdout",
     "output_type": "stream",
     "text": [
      "\n",
      "....................................................................................................\n",
      "....................................................................................................\n",
      "....................................................................................................\n",
      "....................................................................................................\n",
      "....................................................................................................\n",
      "....................................................................................................\n",
      "....................................................................................................\n",
      "....................................................................................................\n",
      "....................................................................................................\n",
      "....................................................................................................\n",
      "....................................................................................................\n",
      "....................................................................................................\n",
      "....................................................................................................\n",
      "....................................................................................................\n",
      "....................................................................................................\n",
      "....................................................................................................\n",
      "....................................................................................................\n",
      "....................................................................................................\n",
      "....................................................................................................\n",
      "....................................................................................................\n",
      "....................................................................................................\n",
      "....................................................................................................\n",
      "....................................................................................................\n",
      "....................................................................................................\n",
      "....................................................................................................\n",
      "....................................................................................................\n",
      "....................................................................................................\n",
      "....................................................................................................\n",
      "..........................."
     ]
    }
   ],
   "source": [
    "class PrintDot(keras.callbacks.Callback):\n",
    "  def on_epoch_end(self, epoch, logs):\n",
    "    if epoch % 100 == 0: print('')\n",
    "    print('.', end='')\n",
    "\n",
    "EPOCHS = 3000\n",
    "\n",
    "history = NN_model.fit(\n",
    "  normed_train_data, train_labels,\n",
    "  epochs=EPOCHS, validation_split = 0.2, verbose=0,\n",
    "  callbacks=[PrintDot()])"
   ]
  },
  {
   "cell_type": "code",
   "execution_count": null,
   "metadata": {},
   "outputs": [],
   "source": [
    "hist = pd.DataFrame(history.history)\n",
    "hist['epoch'] = history.epoch\n",
    "hist.tail()"
   ]
  },
  {
   "cell_type": "code",
   "execution_count": null,
   "metadata": {},
   "outputs": [],
   "source": [
    "def plot_history(history):\n",
    "  hist = pd.DataFrame(history.history)\n",
    "  hist['epoch'] = history.epoch\n",
    "\n",
    "  plt.figure()\n",
    "  plt.xlabel('Epoch')\n",
    "  plt.ylabel('Mean Abs Error [Mitre]')\n",
    "  plt.plot(hist['epoch'], hist['mean_absolute_error'],\n",
    "           label='Train Error')\n",
    "  plt.plot(hist['epoch'], hist['val_mean_absolute_error'],\n",
    "           label = 'Val Error')\n",
    "  plt.ylim([0,1])\n",
    "  plt.legend()\n",
    "\n",
    "  plt.figure()\n",
    "  plt.xlabel('Epoch')\n",
    "  plt.ylabel('Mean Square Error [$Metre^2$]')\n",
    "  plt.plot(hist['epoch'], hist['mean_squared_error'],\n",
    "           label='Train Error')\n",
    "  plt.plot(hist['epoch'], hist['val_mean_squared_error'],\n",
    "           label = 'Val Error')\n",
    "  plt.ylim([0,1])\n",
    "  plt.legend()\n",
    "  plt.show()\n",
    "\n",
    "\n",
    "plot_history(history)"
   ]
  },
  {
   "cell_type": "code",
   "execution_count": null,
   "metadata": {},
   "outputs": [],
   "source": [
    "#model = build_model()\n",
    "\n",
    "#early_stop = keras.callbacks.EarlyStopping(monitor='val_loss', patience=10)\n",
    "\n",
    "#history = model.fit(normed_train_data, train_labels, epochs=EPOCHS,\n",
    "#                    validation_split = 0.2, verbose=0, callbacks=[early_stop, PrintDot()])\n",
    "\n",
    "#plot_history(history)"
   ]
  },
  {
   "cell_type": "markdown",
   "metadata": {},
   "source": [
    "### Testing"
   ]
  },
  {
   "cell_type": "code",
   "execution_count": null,
   "metadata": {},
   "outputs": [],
   "source": [
    "loss, mae, mse = NN_model.evaluate(normed_test_data, test_labels, verbose=0)\n",
    "\n",
    "print(\"Testing set Mean Abs Error: {:5.2f} M\".format(mae))"
   ]
  },
  {
   "cell_type": "code",
   "execution_count": null,
   "metadata": {},
   "outputs": [],
   "source": [
    "y_pred_NN = NN_model.predict(normed_test_data)\n",
    "Test_score_NN =r2_score(test_labels,y_pred_NN)\n",
    "print(\"Testing Score: \",Test_score_NN)"
   ]
  },
  {
   "cell_type": "markdown",
   "metadata": {},
   "source": [
    "### Visulizing Predictions"
   ]
  },
  {
   "cell_type": "code",
   "execution_count": null,
   "metadata": {},
   "outputs": [],
   "source": [
    "y_pred_NN = NN_model.predict(normed_test_data).flatten()\n",
    "\n",
    "plt.scatter(test_labels, y_pred_NN)\n",
    "plt.xlabel('True Values [M]')\n",
    "plt.ylabel('Predictions [M]')\n",
    "plt.axis('equal')\n",
    "plt.axis('square')\n",
    "plt.xlim([0,plt.xlim()[1]])\n",
    "plt.ylim([0,plt.ylim()[1]])\n",
    "_ = plt.plot([-100, 100], [-100, 100])\n",
    "plt.show()"
   ]
  },
  {
   "cell_type": "code",
   "execution_count": null,
   "metadata": {},
   "outputs": [],
   "source": [
    "error = y_pred_NN - test_labels\n",
    "plt.hist(error, bins = 25)\n",
    "plt.xlabel(\"Prediction Error [M]\")\n",
    "_ = plt.ylabel(\"Count\")\n",
    "plt.show()"
   ]
  },
  {
   "cell_type": "code",
   "execution_count": null,
   "metadata": {},
   "outputs": [],
   "source": [
    "x_ax = range(len(test_labels))\n",
    "plt.figure(figsize=(30,10))\n",
    "plt.plot(x_ax, test_labels,label=\"original\")\n",
    "plt.plot(x_ax, y_pred_NN, label=\"Predicted\")\n",
    "plt.legend()\n",
    "plt.show()"
   ]
  },
  {
   "cell_type": "code",
   "execution_count": null,
   "metadata": {},
   "outputs": [],
   "source": [
    "data_wmv = raw_data[raw_data.isnull().any(axis=1)]\n",
    "data_wmv.head()"
   ]
  },
  {
   "cell_type": "code",
   "execution_count": null,
   "metadata": {},
   "outputs": [],
   "source": []
  },
  {
   "cell_type": "code",
   "execution_count": null,
   "metadata": {},
   "outputs": [],
   "source": []
  },
  {
   "cell_type": "code",
   "execution_count": null,
   "metadata": {},
   "outputs": [],
   "source": [
    "scaler=MinMaxScaler()\n",
    "scaler.fit(data_wmv)\n",
    "normed_inp_data = scaler.transform(data_wmv)"
   ]
  },
  {
   "cell_type": "code",
   "execution_count": null,
   "metadata": {},
   "outputs": [],
   "source": [
    "test_predictions = NN_model.predict(normed_inp_data).flatten()\n",
    "test_predictions"
   ]
  }
 ],
 "metadata": {
  "kernelspec": {
   "display_name": "Python 3 (ipykernel)",
   "language": "python",
   "name": "python3"
  },
  "language_info": {
   "codemirror_mode": {
    "name": "ipython",
    "version": 3
   },
   "file_extension": ".py",
   "mimetype": "text/x-python",
   "name": "python",
   "nbconvert_exporter": "python",
   "pygments_lexer": "ipython3",
   "version": "3.9.7"
  }
 },
 "nbformat": 4,
 "nbformat_minor": 4
}
