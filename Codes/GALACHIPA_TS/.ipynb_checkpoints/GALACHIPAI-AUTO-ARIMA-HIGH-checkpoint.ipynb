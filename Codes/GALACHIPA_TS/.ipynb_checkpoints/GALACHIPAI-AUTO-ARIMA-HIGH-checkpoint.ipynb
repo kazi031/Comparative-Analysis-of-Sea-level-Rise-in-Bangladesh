{
 "cells": [
  {
   "cell_type": "code",
   "execution_count": 1,
   "metadata": {},
   "outputs": [],
   "source": [
    "import pandas as pd\n",
    "import numpy as np\n",
    "import matplotlib.pyplot as plt\n",
    "import statsmodels.graphics.tsaplots as sgt\n",
    "import statsmodels.tsa.stattools as sts\n",
    "from statsmodels.tsa.seasonal import seasonal_decompose\n",
    "from statsmodels.tsa.arima_model import ARMA\n",
    "from scipy.stats.distributions import chi2\n",
    "from sklearn.metrics import r2_score,mean_squared_error\n",
    "import warnings\n",
    "from pmdarima.arima import auto_arima\n",
    "warnings.filterwarnings(\"ignore\")\n",
    "import seaborn as sns\n",
    "sns.set()"
   ]
  },
  {
   "cell_type": "code",
   "execution_count": 2,
   "metadata": {},
   "outputs": [],
   "source": [
    "raw_csv_data = pd.read_csv('1.06 STATION GALACHIPA.csv')\n",
    "raw_csv_data.head()\n",
    "df_comp =raw_csv_data.copy()"
   ]
  },
  {
   "cell_type": "code",
   "execution_count": 3,
   "metadata": {},
   "outputs": [],
   "source": [
    "df_comp.Date = pd.to_datetime(df_comp.Date, dayfirst = True)\n",
    "df_comp.set_index(\"Date\",inplace=True)"
   ]
  },
  {
   "cell_type": "code",
   "execution_count": 4,
   "metadata": {},
   "outputs": [],
   "source": [
    "df_comp = df_comp.asfreq('d') #'d' -> daily"
   ]
  },
  {
   "cell_type": "code",
   "execution_count": 5,
   "metadata": {},
   "outputs": [],
   "source": [
    "df_comp2 = df_comp.copy()\n",
    "del df_comp['LOW']"
   ]
  },
  {
   "cell_type": "code",
   "execution_count": 6,
   "metadata": {},
   "outputs": [],
   "source": [
    "size = int(len(df_comp)*0.8)\n",
    "df = df_comp.iloc[:size]\n",
    "df_test = df_comp.iloc[size:]\n",
    "df2 = df_comp2.iloc[:size]\n",
    "df2_test = df_comp2.iloc[size:]"
   ]
  },
  {
   "cell_type": "code",
   "execution_count": 7,
   "metadata": {},
   "outputs": [],
   "source": [
    "def LLR_test(mod_1, mod_2, DF = 1):\n",
    "    L1 = mod_1.fit().llf\n",
    "    L2 = mod_2.fit().llf\n",
    "    LR = (2*(L2-L1))    \n",
    "    p = chi2.sf(LR, DF).round(3)\n",
    "    return p"
   ]
  },
  {
   "cell_type": "code",
   "execution_count": 8,
   "metadata": {},
   "outputs": [],
   "source": [
    "start_date = \"2021-03-14\"\n",
    "end_date = \"2021-12-31\""
   ]
  },
  {
   "cell_type": "code",
   "execution_count": 9,
   "metadata": {},
   "outputs": [
    {
     "data": {
      "text/html": [
       "<div>\n",
       "<style scoped>\n",
       "    .dataframe tbody tr th:only-of-type {\n",
       "        vertical-align: middle;\n",
       "    }\n",
       "\n",
       "    .dataframe tbody tr th {\n",
       "        vertical-align: top;\n",
       "    }\n",
       "\n",
       "    .dataframe thead th {\n",
       "        text-align: right;\n",
       "    }\n",
       "</style>\n",
       "<table border=\"1\" class=\"dataframe\">\n",
       "  <thead>\n",
       "    <tr style=\"text-align: right;\">\n",
       "      <th></th>\n",
       "      <th>SURFACE PRESSURE</th>\n",
       "      <th>DEW POINT</th>\n",
       "      <th>TEMPERATURE</th>\n",
       "      <th>PRECIPITATION</th>\n",
       "      <th>MAX WIND SPD</th>\n",
       "      <th>RELATIVE HUMIDITY</th>\n",
       "      <th>MIN TEMP</th>\n",
       "      <th>N_ICE EXTENT</th>\n",
       "      <th>S_ICE EXTENT</th>\n",
       "      <th>HIGH</th>\n",
       "    </tr>\n",
       "    <tr>\n",
       "      <th>Date</th>\n",
       "      <th></th>\n",
       "      <th></th>\n",
       "      <th></th>\n",
       "      <th></th>\n",
       "      <th></th>\n",
       "      <th></th>\n",
       "      <th></th>\n",
       "      <th></th>\n",
       "      <th></th>\n",
       "      <th></th>\n",
       "    </tr>\n",
       "  </thead>\n",
       "  <tbody>\n",
       "    <tr>\n",
       "      <th>2019-01-01</th>\n",
       "      <td>101.75</td>\n",
       "      <td>14.46</td>\n",
       "      <td>23.44</td>\n",
       "      <td>0.00</td>\n",
       "      <td>4.62</td>\n",
       "      <td>73.38</td>\n",
       "      <td>15.35</td>\n",
       "      <td>12.934</td>\n",
       "      <td>5.314</td>\n",
       "      <td>0.5910</td>\n",
       "    </tr>\n",
       "    <tr>\n",
       "      <th>2019-01-02</th>\n",
       "      <td>101.54</td>\n",
       "      <td>11.72</td>\n",
       "      <td>25.81</td>\n",
       "      <td>0.00</td>\n",
       "      <td>4.75</td>\n",
       "      <td>58.75</td>\n",
       "      <td>16.08</td>\n",
       "      <td>14.086</td>\n",
       "      <td>2.926</td>\n",
       "      <td>0.3440</td>\n",
       "    </tr>\n",
       "    <tr>\n",
       "      <th>2019-01-03</th>\n",
       "      <td>101.34</td>\n",
       "      <td>17.09</td>\n",
       "      <td>24.42</td>\n",
       "      <td>3.24</td>\n",
       "      <td>7.23</td>\n",
       "      <td>75.94</td>\n",
       "      <td>19.63</td>\n",
       "      <td>14.546</td>\n",
       "      <td>2.474</td>\n",
       "      <td>0.3038</td>\n",
       "    </tr>\n",
       "    <tr>\n",
       "      <th>2019-01-04</th>\n",
       "      <td>100.99</td>\n",
       "      <td>24.67</td>\n",
       "      <td>28.03</td>\n",
       "      <td>43.99</td>\n",
       "      <td>8.86</td>\n",
       "      <td>88.50</td>\n",
       "      <td>25.67</td>\n",
       "      <td>14.014</td>\n",
       "      <td>4.222</td>\n",
       "      <td>0.5338</td>\n",
       "    </tr>\n",
       "    <tr>\n",
       "      <th>2019-01-05</th>\n",
       "      <td>100.64</td>\n",
       "      <td>25.64</td>\n",
       "      <td>31.09</td>\n",
       "      <td>7.09</td>\n",
       "      <td>9.38</td>\n",
       "      <td>80.06</td>\n",
       "      <td>28.09</td>\n",
       "      <td>12.862</td>\n",
       "      <td>7.145</td>\n",
       "      <td>1.1570</td>\n",
       "    </tr>\n",
       "  </tbody>\n",
       "</table>\n",
       "</div>"
      ],
      "text/plain": [
       "            SURFACE PRESSURE  DEW POINT  TEMPERATURE  PRECIPITATION  \\\n",
       "Date                                                                  \n",
       "2019-01-01            101.75      14.46        23.44           0.00   \n",
       "2019-01-02            101.54      11.72        25.81           0.00   \n",
       "2019-01-03            101.34      17.09        24.42           3.24   \n",
       "2019-01-04            100.99      24.67        28.03          43.99   \n",
       "2019-01-05            100.64      25.64        31.09           7.09   \n",
       "\n",
       "            MAX WIND SPD  RELATIVE HUMIDITY  MIN TEMP  N_ICE EXTENT  \\\n",
       "Date                                                                  \n",
       "2019-01-01          4.62              73.38     15.35        12.934   \n",
       "2019-01-02          4.75              58.75     16.08        14.086   \n",
       "2019-01-03          7.23              75.94     19.63        14.546   \n",
       "2019-01-04          8.86              88.50     25.67        14.014   \n",
       "2019-01-05          9.38              80.06     28.09        12.862   \n",
       "\n",
       "            S_ICE EXTENT    HIGH  \n",
       "Date                              \n",
       "2019-01-01         5.314  0.5910  \n",
       "2019-01-02         2.926  0.3440  \n",
       "2019-01-03         2.474  0.3038  \n",
       "2019-01-04         4.222  0.5338  \n",
       "2019-01-05         7.145  1.1570  "
      ]
     },
     "execution_count": 9,
     "metadata": {},
     "output_type": "execute_result"
    }
   ],
   "source": [
    "df_comp.head()"
   ]
  },
  {
   "cell_type": "code",
   "execution_count": null,
   "metadata": {},
   "outputs": [],
   "source": [
    "mod_auto2 = auto_arima(df.HIGH,exogenous = df[['SURFACE PRESSURE','TEMPERATURE',\n",
    "                                               'MAX WIND SPD','S_ICE EXTENT']]\n",
    "                       ,m = 15, max_p = 6, max_q = 11)"
   ]
  },
  {
   "cell_type": "code",
   "execution_count": null,
   "metadata": {},
   "outputs": [],
   "source": [
    "mod_auto2.summary()"
   ]
  },
  {
   "cell_type": "code",
   "execution_count": null,
   "metadata": {},
   "outputs": [],
   "source": [
    "df_auto_pred_pr2 = pd.DataFrame(mod_auto2.predict(n_periods = len(df_test[start_date:end_date]),exogenous = df_test[['SURFACE PRESSURE','TEMPERATURE',\n",
    "                                               'MAX WIND SPD','S_ICE EXTENT']][start_date:end_date]),\n",
    "                               index = df_test[start_date:end_date].index)"
   ]
  },
  {
   "cell_type": "code",
   "execution_count": null,
   "metadata": {},
   "outputs": [],
   "source": [
    "df_auto_pred_pr2[start_date:end_date].plot(figsize = (20,5), color = \"red\")\n",
    "df_test.HIGH[start_date:end_date].plot(color = \"blue\")"
   ]
  },
  {
   "cell_type": "code",
   "execution_count": null,
   "metadata": {},
   "outputs": [],
   "source": [
    "acc =r2_score(df_test.HIGH[start_date:end_date],df_auto_pred_pr2[start_date:end_date])\n",
    "print(\"Testing Score: \",acc)"
   ]
  }
 ],
 "metadata": {
  "kernelspec": {
   "display_name": "Python 3 (ipykernel)",
   "language": "python",
   "name": "python3"
  },
  "language_info": {
   "codemirror_mode": {
    "name": "ipython",
    "version": 3
   },
   "file_extension": ".py",
   "mimetype": "text/x-python",
   "name": "python",
   "nbconvert_exporter": "python",
   "pygments_lexer": "ipython3",
   "version": "3.9.7"
  }
 },
 "nbformat": 4,
 "nbformat_minor": 4
}
